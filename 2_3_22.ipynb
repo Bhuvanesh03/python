{
  "nbformat": 4,
  "nbformat_minor": 0,
  "metadata": {
    "colab": {
      "name": "2.3.22.ipynb",
      "provenance": [],
      "include_colab_link": true
    },
    "kernelspec": {
      "name": "python3",
      "display_name": "Python 3"
    },
    "language_info": {
      "name": "python"
    }
  },
  "cells": [
    {
      "cell_type": "markdown",
      "metadata": {
        "id": "view-in-github",
        "colab_type": "text"
      },
      "source": [
        "<a href=\"https://colab.research.google.com/github/Bhuvanesh03/python/blob/main/2_3_22.ipynb\" target=\"_parent\"><img src=\"https://colab.research.google.com/assets/colab-badge.svg\" alt=\"Open In Colab\"/></a>"
      ]
    },
    {
      "cell_type": "code",
      "execution_count": null,
      "metadata": {
        "colab": {
          "base_uri": "https://localhost:8080/"
        },
        "id": "9jzPRc0P9btv",
        "outputId": "1653b1c5-7ae7-4e26-f0e5-457516ea3848"
      },
      "outputs": [
        {
          "output_type": "stream",
          "name": "stdout",
          "text": [
            "The Sum Of 1.5 and 6.3 is 7.8\n",
            "Enter First Number : 1\n",
            "Enter Second Number : 2\n",
            "The Sum Of 1 And 2 is 3.0\n",
            "Thye Square Root Of 8.000 is 2.828\n",
            "The Square Root Of (1+2j) is 1.272+0.786j\n",
            "The Area Of The Traingle Is 14.70\n",
            "The Value Of X After Swapping : 10\n",
            "The Value Of Y After Swapping : 5\n"
          ]
        }
      ],
      "source": [
        "num1 = 1.5\n",
        "num2 = 6.3\n",
        "sum = num1+num2\n",
        "print('The Sum Of {0} and {1} is {2}'.format(num1, num2, sum))\n",
        "\n",
        "num1 = input('Enter First Number : ')\n",
        "num2 = input('Enter Second Number : ')\n",
        "sum = float(num1)+float(num2)\n",
        "print('The Sum Of {0} And {1} is {2}'.format(num1,num2,sum))\n",
        "\n",
        "num = 8\n",
        "num_sqrt = num ** 0.5\n",
        "print('Thye Square Root Of %0.3f is %0.3f'%(num , num_sqrt))\n",
        "\n",
        "import cmath\n",
        "num = 1+2j\n",
        "num_sqrt = cmath.sqrt(num)\n",
        "print('The Square Root Of {0} is {1:0.3f}+{2:0.3f}j'.format(num,num_sqrt.real,num_sqrt.imag))\n",
        "\n",
        "a = 5\n",
        "b = 6\n",
        "c = 7\n",
        "s = (a+b+c) / 2\n",
        "area = (s*(s-a)*(s-b)*(s-c)) ** 0.5\n",
        "print(\"The Area Of The Traingle Is %0.2f\" %area)\n",
        "\n",
        "x = 5\n",
        "y = 10\n",
        "temp = x\n",
        "x = y\n",
        "y = temp\n",
        "print(\"The Value Of X After Swapping : {}\".format(x))\n",
        "print(\"The Value Of Y After Swapping : {}\".format(y))"
      ]
    },
    {
      "cell_type": "code",
      "source": [
        "website = \"apple.com\"\n",
        "print(website)"
      ],
      "metadata": {
        "id": "sp6anTbxS_Me",
        "outputId": "590c8e95-e2e3-4668-8219-5bc8594be708",
        "colab": {
          "base_uri": "https://localhost:8080/"
        }
      },
      "execution_count": 2,
      "outputs": [
        {
          "output_type": "stream",
          "name": "stdout",
          "text": [
            "apple.com\n"
          ]
        }
      ]
    },
    {
      "cell_type": "code",
      "source": [
        "website = \"apple.com\"\n",
        "print(website)\n",
        "website = \"programiz.com\"\n",
        "print(website)"
      ],
      "metadata": {
        "id": "AjF725gZTofI",
        "outputId": "85a3cbde-8bdf-4d7b-aac5-1937473e9e6b",
        "colab": {
          "base_uri": "https://localhost:8080/"
        }
      },
      "execution_count": 3,
      "outputs": [
        {
          "output_type": "stream",
          "name": "stdout",
          "text": [
            "apple.com\n",
            "programiz.com\n"
          ]
        }
      ]
    },
    {
      "cell_type": "code",
      "source": [
        "a, b, c = 5, 6, \"hello\"\n",
        "print (a)\n",
        "print (b)\n",
        "print (c)"
      ],
      "metadata": {
        "id": "vG7caRSUT8gu",
        "outputId": "6a44828d-c30f-4c58-8f5a-a2f4ead6e529",
        "colab": {
          "base_uri": "https://localhost:8080/"
        }
      },
      "execution_count": 4,
      "outputs": [
        {
          "output_type": "stream",
          "name": "stdout",
          "text": [
            "5\n",
            "6\n",
            "hello\n"
          ]
        }
      ]
    },
    {
      "cell_type": "code",
      "source": [
        "a = 0b1010\n",
        "b = 100\n",
        "c = 0o310\n",
        "d = 0x12c\n",
        "\n",
        "float_1 = 10.5\n",
        "float_2 = 1.5e2\n",
        "\n",
        "x = 3.14j\n",
        "\n",
        "print(a, b, c, d)\n",
        "print(float_1, float_2)\n",
        "print(x, x.imag, x.real)"
      ],
      "metadata": {
        "id": "SqV8sII0U6HF",
        "outputId": "11b7085b-eb58-4df4-bbad-d8b56d8313e8",
        "colab": {
          "base_uri": "https://localhost:8080/"
        }
      },
      "execution_count": 14,
      "outputs": [
        {
          "output_type": "stream",
          "name": "stdout",
          "text": [
            "10 100 200 300\n",
            "10.5 150.0\n",
            "3.14j 3.14 0.0\n"
          ]
        }
      ]
    },
    {
      "cell_type": "code",
      "source": [
        ""
      ],
      "metadata": {
        "id": "Fu62B7k6ZBNA"
      },
      "execution_count": null,
      "outputs": []
    }
  ]
}